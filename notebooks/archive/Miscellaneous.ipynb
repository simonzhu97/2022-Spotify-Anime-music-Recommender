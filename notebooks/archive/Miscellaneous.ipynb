{
 "cells": [
  {
   "cell_type": "code",
   "execution_count": 9,
   "id": "44e1147a",
   "metadata": {},
   "outputs": [],
   "source": [
    "import pandas as pd"
   ]
  },
  {
   "cell_type": "code",
   "execution_count": 10,
   "id": "4c998056",
   "metadata": {},
   "outputs": [],
   "source": [
    "data_path = \"../../data/intermediate/clustered_songs.csv\""
   ]
  },
  {
   "cell_type": "code",
   "execution_count": 11,
   "id": "22dcb3bd",
   "metadata": {},
   "outputs": [
    {
     "name": "stdout",
     "output_type": "stream",
     "text": [
      "{'danceability': 0.627, 'energy': 0.824, 'key': 1, 'loudness': -3.419, 'speechiness': 0.118, 'acousticness': 0.0699, 'instrumentalness': 6.57e-05, 'liveness': 0.31, 'valence': 0.774, 'tempo': 169.935, 'track_uri': 'spotify:track:06XQvnJb53SUYmlWIhUXUi', 'duration': 206000, 'title': '怪物', 'clusterId': 0}\n",
      "{'danceability': 0.585, 'energy': 0.91, 'key': 5, 'loudness': -3.703, 'speechiness': 0.0917, 'acousticness': 0.0138, 'instrumentalness': 0.0, 'liveness': 0.19, 'valence': 0.602, 'tempo': 92.591, 'track_uri': 'spotify:track:5MVjxslIF7mVtYo75Nk445', 'duration': 221426, 'title': '廻廻奇譚', 'clusterId': 2}\n",
      "{'danceability': 0.561, 'energy': 0.667, 'key': 8, 'loudness': -8.519, 'speechiness': 0.0652, 'acousticness': 0.0539, 'instrumentalness': 0.0, 'liveness': 0.0797, 'valence': 0.383, 'tempo': 100.047, 'track_uri': 'spotify:track:3CYfCp9XAHc69wtCKTwMaj', 'duration': 217807, 'title': '0 (zero)', 'clusterId': 2}\n",
      "{'danceability': 0.544, 'energy': 0.979, 'key': 4, 'loudness': -2.8, 'speechiness': 0.153, 'acousticness': 0.00336, 'instrumentalness': 0.000116, 'liveness': 0.0775, 'valence': 0.31, 'tempo': 135.001, 'track_uri': 'spotify:track:1hFsEbHxsfflhLEPCq5tzk', 'duration': 238587, 'title': '紅蓮華', 'clusterId': 0}\n",
      "{'danceability': 0.305, 'energy': 0.252, 'key': 4, 'loudness': -13.541, 'speechiness': 0.0419, 'acousticness': 0.395, 'instrumentalness': 0.0127, 'liveness': 0.171, 'valence': 0.127, 'tempo': 128.015, 'track_uri': 'spotify:track:5dy1QO156l2ct1MVPzc8px', 'duration': 238412, 'title': '歌よ', 'clusterId': 1}\n",
      "{'danceability': 0.592, 'energy': 0.54, 'key': 8, 'loudness': -11.249, 'speechiness': 0.0587, 'acousticness': 0.692, 'instrumentalness': 0.00187, 'liveness': 0.0965, 'valence': 0.354, 'tempo': 111.955, 'track_uri': 'spotify:track:5RhWszHMSKzb7KiXk4Ae0M', 'duration': 252027, 'title': 'One Last Kiss', 'clusterId': 2}\n",
      "{'danceability': 0.403, 'energy': 0.723, 'key': 7, 'loudness': -4.609, 'speechiness': 0.0339, 'acousticness': 0.0422, 'instrumentalness': 7.48e-06, 'liveness': 0.374, 'valence': 0.441, 'tempo': 75.989, 'track_uri': 'spotify:track:2VRcLEvQCMByWBuvM9gaJ2', 'duration': 194274, 'title': 'Oz.', 'clusterId': 4}\n",
      "{'danceability': 0.536, 'energy': 0.966, 'key': 6, 'loudness': -2.929, 'speechiness': 0.0558, 'acousticness': 0.121, 'instrumentalness': 0.0, 'liveness': 0.0477, 'valence': 0.849, 'tempo': 152.076, 'track_uri': 'spotify:track:2aWtTHMBKdd6NfKT2GMfiK', 'duration': 217013, 'title': 'ブルーバード', 'clusterId': 2}\n",
      "{'danceability': 0.477, 'energy': 0.685, 'key': 2, 'loudness': -4.554, 'speechiness': 0.0325, 'acousticness': 0.105, 'instrumentalness': 0.0, 'liveness': 0.277, 'valence': 0.308, 'tempo': 152.04, 'track_uri': 'spotify:track:0cSkn2l67csUljEy0EEBPn', 'duration': 275000, 'title': '炎', 'clusterId': 4}\n",
      "{'danceability': 0.648, 'energy': 0.904, 'key': 6, 'loudness': -4.565, 'speechiness': 0.0786, 'acousticness': 0.0961, 'instrumentalness': 2.07e-06, 'liveness': 0.0629, 'valence': 0.728, 'tempo': 121.994, 'track_uri': 'spotify:track:7kRKlFCFLAUwt43HWtauhX', 'duration': 327967, 'title': 'LOST IN PARADISE', 'clusterId': 2}\n",
      "{'danceability': 0.592, 'energy': 0.894, 'key': 11, 'loudness': -4.71, 'speechiness': 0.042, 'acousticness': 0.00358, 'instrumentalness': 5.32e-06, 'liveness': 0.0721, 'valence': 0.642, 'tempo': 100.026, 'track_uri': 'spotify:track:2y7f8qkrgIqY5KsfPNcuix', 'duration': 196947, 'title': 'Black Catcher', 'clusterId': 2}\n",
      "{'danceability': 0.529, 'energy': 0.931, 'key': 4, 'loudness': -1.538, 'speechiness': 0.0581, 'acousticness': 0.00955, 'instrumentalness': 0.0, 'liveness': 0.465, 'valence': 0.695, 'tempo': 92.466, 'track_uri': 'spotify:track:64yajM6CxtLghmgB53VeXT', 'duration': 212547, 'title': 'インフェルノ', 'clusterId': 4}\n",
      "{'danceability': 0.651, 'energy': 0.913, 'key': 9, 'loudness': -5.667, 'speechiness': 0.0384, 'acousticness': 0.0437, 'instrumentalness': 0.00133, 'liveness': 0.311, 'valence': 0.736, 'tempo': 120.028, 'track_uri': 'spotify:track:32H7fwKsaYtSl6qiXFI6I6', 'duration': 187267, 'title': 'U', 'clusterId': 4}\n",
      "{'danceability': 0.604, 'energy': 0.711, 'key': 1, 'loudness': -6.674, 'speechiness': 0.0348, 'acousticness': 0.165, 'instrumentalness': 0.0, 'liveness': 0.0872, 'valence': 0.286, 'tempo': 127.892, 'track_uri': 'spotify:track:3YQoygT4wAXxvITZDvLAGx', 'duration': 246407, 'title': 'Unity', 'clusterId': 2}\n",
      "{'danceability': 0.564, 'energy': 0.688, 'key': 5, 'loudness': -3.806, 'speechiness': 0.0551, 'acousticness': 0.255, 'instrumentalness': 0.0, 'liveness': 0.322, 'valence': 0.457, 'tempo': 156.082, 'track_uri': 'spotify:track:5eHmOGj5szF3Pm9fHWVwuq', 'duration': 287385, 'title': 'モラトリアム', 'clusterId': 4}\n",
      "{'danceability': 0.615, 'energy': 0.868, 'key': 1, 'loudness': -3.571, 'speechiness': 0.105, 'acousticness': 0.0681, 'instrumentalness': 0.0, 'liveness': 0.234, 'valence': 0.69, 'tempo': 170.054, 'track_uri': 'spotify:track:7M9lc2hHXKQobbHQ31Yg2v', 'duration': 205000, 'title': 'Monster', 'clusterId': 0}\n",
      "{'danceability': 0.666, 'energy': 0.534, 'key': 6, 'loudness': -7.286, 'speechiness': 0.0893, 'acousticness': 0.277, 'instrumentalness': 3.57e-05, 'liveness': 0.179, 'valence': 0.617, 'tempo': 100.0, 'track_uri': 'spotify:track:39lq5gU4lPc0rYVaRo0stH', 'duration': 197084, 'title': 'PINK BLOOD', 'clusterId': 2}\n",
      "{'danceability': 0.54, 'energy': 0.752, 'key': 11, 'loudness': -5.212, 'speechiness': 0.0267, 'acousticness': 0.159, 'instrumentalness': 0.0, 'liveness': 0.363, 'valence': 0.462, 'tempo': 84.033, 'track_uri': 'spotify:track:7CZKnz9mEt8Z638tyY5cKL', 'duration': 271520, 'title': 'Eden', 'clusterId': 4}\n",
      "{'danceability': 0.504, 'energy': 0.38, 'key': 6, 'loudness': -11.826, 'speechiness': 0.037, 'acousticness': 0.642, 'instrumentalness': 0.857, 'liveness': 0.0697, 'valence': 0.0535, 'tempo': 123.911, 'track_uri': 'spotify:track:1fN2JjN9Sj2kOPJXLDovSe', 'duration': 178213, 'title': 'Call of Silence', 'clusterId': 3}\n",
      "{'danceability': 0.599, 'energy': 0.932, 'key': 11, 'loudness': -5.622, 'speechiness': 0.0407, 'acousticness': 0.00215, 'instrumentalness': 0.0, 'liveness': 0.146, 'valence': 0.539, 'tempo': 102.065, 'track_uri': 'spotify:track:04LCCxG3pbOYeENiyUc7Xb', 'duration': 208300, 'title': 'Black Rover', 'clusterId': 2}\n",
      "{'danceability': 0.56, 'energy': 0.952, 'key': 1, 'loudness': -2.579, 'speechiness': 0.162, 'acousticness': 0.135, 'instrumentalness': 0.0, 'liveness': 0.162, 'valence': 0.689, 'tempo': 89.872, 'track_uri': 'spotify:track:4cDm9C5jhBiIyYxVhQmMwB', 'duration': 228267, 'title': '往け', 'clusterId': 0}\n",
      "{'danceability': 0.674, 'energy': 0.727, 'key': 0, 'loudness': -9.38, 'speechiness': 0.0469, 'acousticness': 0.0128, 'instrumentalness': 0.0135, 'liveness': 0.282, 'valence': 0.652, 'tempo': 119.994, 'track_uri': 'spotify:track:169YBmYRX0JNR3o4CJVWXY', 'duration': 183531, 'title': 'U - English Version', 'clusterId': 4}\n",
      "{'danceability': 0.367, 'energy': 0.896, 'key': 11, 'loudness': -4.002, 'speechiness': 0.091, 'acousticness': 0.000627, 'instrumentalness': 0.0, 'liveness': 0.207, 'valence': 0.38, 'tempo': 170.863, 'track_uri': 'spotify:track:7v8wKvNQQIxkugCFFjrkaO', 'duration': 184893, 'title': '残響散歌', 'clusterId': 0}\n",
      "{'danceability': 0.376, 'energy': 0.903, 'key': 10, 'loudness': -4.454, 'speechiness': 0.0702, 'acousticness': 0.0292, 'instrumentalness': 0.0, 'liveness': 0.308, 'valence': 0.371, 'tempo': 165.859, 'track_uri': 'spotify:track:4dDBdgmfZxoLE8SR41RH70', 'duration': 280080, 'title': '海と真珠', 'clusterId': 4}\n",
      "{'danceability': 0.598, 'energy': 0.611, 'key': 11, 'loudness': -5.116, 'speechiness': 0.0227, 'acousticness': 0.231, 'instrumentalness': 0.0, 'liveness': 0.152, 'valence': 0.452, 'tempo': 82.98, 'track_uri': 'spotify:track:3ZYKbGJ6I5adT5ozf0N6OH', 'duration': 255633, 'title': 'Lucky Ending', 'clusterId': 2}\n",
      "{'danceability': 0.669, 'energy': 0.751, 'key': 5, 'loudness': -5.447, 'speechiness': 0.0299, 'acousticness': 0.00483, 'instrumentalness': 0.0237, 'liveness': 0.326, 'valence': 0.833, 'tempo': 103.976, 'track_uri': 'spotify:track:1YvLvyEHEUv6xuablK3kpj', 'duration': 223846, 'title': '空と虚', 'clusterId': 4}\n",
      "{'danceability': 0.468, 'energy': 0.753, 'key': 4, 'loudness': -4.329, 'speechiness': 0.031, 'acousticness': 0.179, 'instrumentalness': 5.65e-06, 'liveness': 0.148, 'valence': 0.18, 'tempo': 155.929, 'track_uri': 'spotify:track:28QpCzFbTf09Jsj2zuz58t', 'duration': 250293, 'title': 'Avid', 'clusterId': 2}\n",
      "{'danceability': 0.585, 'energy': 0.714, 'key': 4, 'loudness': -5.357, 'speechiness': 0.0397, 'acousticness': 0.0134, 'instrumentalness': 0.0, 'liveness': 0.172, 'valence': 0.496, 'tempo': 119.957, 'track_uri': 'spotify:track:6MjG6j8Iuea6XL9cp1aUec', 'duration': 243628, 'title': '透明な世界', 'clusterId': 2}\n",
      "{'danceability': 0.389, 'energy': 0.867, 'key': 1, 'loudness': -3.604, 'speechiness': 0.048, 'acousticness': 0.000303, 'instrumentalness': 0.0, 'liveness': 0.347, 'valence': 0.215, 'tempo': 94.952, 'track_uri': 'spotify:track:60iYkEAcSpAFcsjRrgTlrc', 'duration': 269000, 'title': '明け星', 'clusterId': 4}\n",
      "{'danceability': 0.614, 'energy': 0.785, 'key': 3, 'loudness': -5.15, 'speechiness': 0.0361, 'acousticness': 0.767, 'instrumentalness': 0.0, 'liveness': 0.331, 'valence': 0.567, 'tempo': 107.056, 'track_uri': 'spotify:track:23ILMGaQXEuSQkflOcEJTz', 'duration': 246039, 'title': 'Dream on', 'clusterId': 4}\n",
      "{'danceability': 0.491, 'energy': 0.879, 'key': 6, 'loudness': -2.722, 'speechiness': 0.0652, 'acousticness': 0.391, 'instrumentalness': 0.0, 'liveness': 0.342, 'valence': 0.571, 'tempo': 160.092, 'track_uri': 'spotify:track:2BlDX1yfT0ea5wo0vjCKKa', 'duration': 252133, 'title': '光るなら', 'clusterId': 4}\n",
      "{'danceability': 0.715, 'energy': 0.722, 'key': 5, 'loudness': -4.62, 'speechiness': 0.0348, 'acousticness': 0.197, 'instrumentalness': 0.0, 'liveness': 0.114, 'valence': 0.522, 'tempo': 89.995, 'track_uri': 'spotify:track:19fhOFi6pNGeZe5uiFlm7c', 'duration': 215333, 'title': '優しい彗星', 'clusterId': 2}\n",
      "{'danceability': 0.351, 'energy': 0.742, 'key': 5, 'loudness': -4.09, 'speechiness': 0.0418, 'acousticness': 0.00594, 'instrumentalness': 1.54e-05, 'liveness': 0.1"
     ]
    },
    {
     "data": {
      "text/html": [
       "<b>limit_output extension: Maximum message size of 10000 exceeded with 137812 characters</b>"
      ]
     },
     "metadata": {},
     "output_type": "display_data"
    }
   ],
   "source": [
    "data_list = pd.read_csv(data_path).to_dict(orient='records')\n",
    "persist_list = []\n",
    "        \n",
    "for data in data_list:\n",
    "    print(data)"
   ]
  },
  {
   "cell_type": "code",
   "execution_count": null,
   "id": "3aa2672a",
   "metadata": {},
   "outputs": [],
   "source": []
  }
 ],
 "metadata": {
  "kernelspec": {
   "display_name": "Python [conda env:avc] *",
   "language": "python",
   "name": "conda-env-avc-py"
  },
  "language_info": {
   "codemirror_mode": {
    "name": "ipython",
    "version": 3
   },
   "file_extension": ".py",
   "mimetype": "text/x-python",
   "name": "python",
   "nbconvert_exporter": "python",
   "pygments_lexer": "ipython3",
   "version": "3.9.0"
  },
  "toc": {
   "base_numbering": 1,
   "nav_menu": {},
   "number_sections": true,
   "sideBar": true,
   "skip_h1_title": false,
   "title_cell": "Table of Contents",
   "title_sidebar": "Contents",
   "toc_cell": false,
   "toc_position": {},
   "toc_section_display": true,
   "toc_window_display": false
  }
 },
 "nbformat": 4,
 "nbformat_minor": 5
}
