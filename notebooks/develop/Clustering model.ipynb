{
 "cells": [
  {
   "cell_type": "code",
   "execution_count": 1,
   "id": "b1bee86e",
   "metadata": {},
   "outputs": [],
   "source": [
    "import pandas as pd\n",
    "import numpy as np\n",
    "import pandas as pd\n",
    "import matplotlib.pyplot as plt\n",
    "import seaborn as sns\n",
    "from sklearn.cluster import KMeans\n",
    "from sklearn.preprocessing import StandardScaler\n",
    "from sklearn.metrics import silhouette_score, pairwise_distances"
   ]
  },
  {
   "cell_type": "markdown",
   "id": "bb8aa29f",
   "metadata": {},
   "source": [
    "# Load data"
   ]
  },
  {
   "cell_type": "code",
   "execution_count": 2,
   "id": "c8437cec",
   "metadata": {},
   "outputs": [],
   "source": [
    "df = pd.read_csv('../../data/raw/anime_songs.csv')"
   ]
  },
  {
   "cell_type": "markdown",
   "id": "b1974bc4",
   "metadata": {},
   "source": [
    "## Data exploration"
   ]
  },
  {
   "cell_type": "code",
   "execution_count": 3,
   "id": "03fb2604",
   "metadata": {},
   "outputs": [
    {
     "data": {
      "text/plain": [
       "(438, 20)"
      ]
     },
     "metadata": {},
     "output_type": "display_data"
    },
    {
     "data": {
      "text/html": [
       "<div>\n",
       "<style scoped>\n",
       "    .dataframe tbody tr th:only-of-type {\n",
       "        vertical-align: middle;\n",
       "    }\n",
       "\n",
       "    .dataframe tbody tr th {\n",
       "        vertical-align: top;\n",
       "    }\n",
       "\n",
       "    .dataframe thead th {\n",
       "        text-align: right;\n",
       "    }\n",
       "</style>\n",
       "<table border=\"1\" class=\"dataframe\">\n",
       "  <thead>\n",
       "    <tr style=\"text-align: right;\">\n",
       "      <th></th>\n",
       "      <th>Unnamed: 0</th>\n",
       "      <th>danceability</th>\n",
       "      <th>energy</th>\n",
       "      <th>key</th>\n",
       "      <th>loudness</th>\n",
       "      <th>mode</th>\n",
       "      <th>speechiness</th>\n",
       "      <th>acousticness</th>\n",
       "      <th>instrumentalness</th>\n",
       "      <th>liveness</th>\n",
       "      <th>valence</th>\n",
       "      <th>tempo</th>\n",
       "      <th>type</th>\n",
       "      <th>id</th>\n",
       "      <th>uri</th>\n",
       "      <th>track_href</th>\n",
       "      <th>analysis_url</th>\n",
       "      <th>duration_ms</th>\n",
       "      <th>time_signature</th>\n",
       "      <th>name</th>\n",
       "    </tr>\n",
       "  </thead>\n",
       "  <tbody>\n",
       "    <tr>\n",
       "      <th>0</th>\n",
       "      <td>0</td>\n",
       "      <td>0.627</td>\n",
       "      <td>0.824</td>\n",
       "      <td>1</td>\n",
       "      <td>-3.419</td>\n",
       "      <td>1</td>\n",
       "      <td>0.1180</td>\n",
       "      <td>0.0699</td>\n",
       "      <td>0.000066</td>\n",
       "      <td>0.3100</td>\n",
       "      <td>0.774</td>\n",
       "      <td>169.935</td>\n",
       "      <td>audio_features</td>\n",
       "      <td>06XQvnJb53SUYmlWIhUXUi</td>\n",
       "      <td>spotify:track:06XQvnJb53SUYmlWIhUXUi</td>\n",
       "      <td>https://api.spotify.com/v1/tracks/06XQvnJb53SU...</td>\n",
       "      <td>https://api.spotify.com/v1/audio-analysis/06XQ...</td>\n",
       "      <td>206000</td>\n",
       "      <td>4</td>\n",
       "      <td>怪物</td>\n",
       "    </tr>\n",
       "    <tr>\n",
       "      <th>1</th>\n",
       "      <td>0</td>\n",
       "      <td>0.585</td>\n",
       "      <td>0.910</td>\n",
       "      <td>5</td>\n",
       "      <td>-3.703</td>\n",
       "      <td>0</td>\n",
       "      <td>0.0917</td>\n",
       "      <td>0.0138</td>\n",
       "      <td>0.000000</td>\n",
       "      <td>0.1900</td>\n",
       "      <td>0.602</td>\n",
       "      <td>92.591</td>\n",
       "      <td>audio_features</td>\n",
       "      <td>5MVjxslIF7mVtYo75Nk445</td>\n",
       "      <td>spotify:track:5MVjxslIF7mVtYo75Nk445</td>\n",
       "      <td>https://api.spotify.com/v1/tracks/5MVjxslIF7mV...</td>\n",
       "      <td>https://api.spotify.com/v1/audio-analysis/5MVj...</td>\n",
       "      <td>221426</td>\n",
       "      <td>4</td>\n",
       "      <td>廻廻奇譚</td>\n",
       "    </tr>\n",
       "    <tr>\n",
       "      <th>2</th>\n",
       "      <td>0</td>\n",
       "      <td>0.561</td>\n",
       "      <td>0.667</td>\n",
       "      <td>8</td>\n",
       "      <td>-8.519</td>\n",
       "      <td>0</td>\n",
       "      <td>0.0652</td>\n",
       "      <td>0.0539</td>\n",
       "      <td>0.000000</td>\n",
       "      <td>0.0797</td>\n",
       "      <td>0.383</td>\n",
       "      <td>100.047</td>\n",
       "      <td>audio_features</td>\n",
       "      <td>3CYfCp9XAHc69wtCKTwMaj</td>\n",
       "      <td>spotify:track:3CYfCp9XAHc69wtCKTwMaj</td>\n",
       "      <td>https://api.spotify.com/v1/tracks/3CYfCp9XAHc6...</td>\n",
       "      <td>https://api.spotify.com/v1/audio-analysis/3CYf...</td>\n",
       "      <td>217807</td>\n",
       "      <td>4</td>\n",
       "      <td>0 (zero)</td>\n",
       "    </tr>\n",
       "  </tbody>\n",
       "</table>\n",
       "</div>"
      ],
      "text/plain": [
       "   Unnamed: 0  danceability  energy  key  loudness  mode  speechiness  \\\n",
       "0           0         0.627   0.824    1    -3.419     1       0.1180   \n",
       "1           0         0.585   0.910    5    -3.703     0       0.0917   \n",
       "2           0         0.561   0.667    8    -8.519     0       0.0652   \n",
       "\n",
       "   acousticness  instrumentalness  liveness  valence    tempo            type  \\\n",
       "0        0.0699          0.000066    0.3100    0.774  169.935  audio_features   \n",
       "1        0.0138          0.000000    0.1900    0.602   92.591  audio_features   \n",
       "2        0.0539          0.000000    0.0797    0.383  100.047  audio_features   \n",
       "\n",
       "                       id                                   uri  \\\n",
       "0  06XQvnJb53SUYmlWIhUXUi  spotify:track:06XQvnJb53SUYmlWIhUXUi   \n",
       "1  5MVjxslIF7mVtYo75Nk445  spotify:track:5MVjxslIF7mVtYo75Nk445   \n",
       "2  3CYfCp9XAHc69wtCKTwMaj  spotify:track:3CYfCp9XAHc69wtCKTwMaj   \n",
       "\n",
       "                                          track_href  \\\n",
       "0  https://api.spotify.com/v1/tracks/06XQvnJb53SU...   \n",
       "1  https://api.spotify.com/v1/tracks/5MVjxslIF7mV...   \n",
       "2  https://api.spotify.com/v1/tracks/3CYfCp9XAHc6...   \n",
       "\n",
       "                                        analysis_url  duration_ms  \\\n",
       "0  https://api.spotify.com/v1/audio-analysis/06XQ...       206000   \n",
       "1  https://api.spotify.com/v1/audio-analysis/5MVj...       221426   \n",
       "2  https://api.spotify.com/v1/audio-analysis/3CYf...       217807   \n",
       "\n",
       "   time_signature      name  \n",
       "0               4        怪物  \n",
       "1               4      廻廻奇譚  \n",
       "2               4  0 (zero)  "
      ]
     },
     "metadata": {},
     "output_type": "display_data"
    }
   ],
   "source": [
    "display(df.shape)\n",
    "display(df.head(3))"
   ]
  },
  {
   "cell_type": "code",
   "execution_count": 4,
   "id": "e89c9b8e",
   "metadata": {},
   "outputs": [
    {
     "data": {
      "text/plain": [
       "Index(['Unnamed: 0', 'danceability', 'energy', 'key', 'loudness', 'mode',\n",
       "       'speechiness', 'acousticness', 'instrumentalness', 'liveness',\n",
       "       'valence', 'tempo', 'type', 'id', 'uri', 'track_href', 'analysis_url',\n",
       "       'duration_ms', 'time_signature', 'name'],\n",
       "      dtype='object')"
      ]
     },
     "execution_count": 4,
     "metadata": {},
     "output_type": "execute_result"
    }
   ],
   "source": [
    "df.columns"
   ]
  },
  {
   "cell_type": "markdown",
   "id": "d8265b3a",
   "metadata": {},
   "source": [
    "## Choose useful columns"
   ]
  },
  {
   "cell_type": "code",
   "execution_count": 72,
   "id": "015bb9f2",
   "metadata": {},
   "outputs": [],
   "source": [
    "useful_cols = ['danceability', 'energy', 'loudness',\n",
    "       'speechiness', 'acousticness', 'instrumentalness',\n",
    "        'liveness','valence', 'tempo']\n",
    "df_anime = df[useful_cols]"
   ]
  },
  {
   "cell_type": "code",
   "execution_count": 73,
   "id": "eca17d06",
   "metadata": {},
   "outputs": [],
   "source": [
    "# conduct scaling on numerical columns\n",
    "std_scale = StandardScaler()\n",
    "df_num = df_anime.select_dtypes(exclude=['object','category'])\n",
    "df_num = pd.DataFrame(std_scale.fit_transform(df_num),\n",
    "                      columns = df_num.columns)\n",
    "\n",
    "# combine the numerical columns with the \"name\" column\n",
    "df_scale = pd.concat([df_num],axis=1)"
   ]
  },
  {
   "cell_type": "code",
   "execution_count": 74,
   "id": "7b73ba67",
   "metadata": {},
   "outputs": [
    {
     "data": {
      "text/plain": [
       "(438, 9)"
      ]
     },
     "execution_count": 74,
     "metadata": {},
     "output_type": "execute_result"
    }
   ],
   "source": [
    "df_scale.shape"
   ]
  },
  {
   "cell_type": "markdown",
   "id": "e93eba58",
   "metadata": {},
   "source": [
    "# Modeling"
   ]
  },
  {
   "cell_type": "code",
   "execution_count": 75,
   "id": "fc673dc5",
   "metadata": {},
   "outputs": [],
   "source": [
    "def get_models_dict(df, cols, K_range, seed=42, return_list=False):\n",
    "    \"\"\"\n",
    "    run several K-means models with different number of clusters K on a dataframe\n",
    "    df: dataframe to work on\n",
    "    cols: features to include in the K-Means algorithm\n",
    "    K_range: range of number of clusters to try\n",
    "    \"\"\"\n",
    "    \n",
    "    model_dict = {}\n",
    "    for k in K_range:\n",
    "        mod = KMeans(n_clusters=k, random_state=seed).fit(df[cols])\n",
    "        model_dict[str(k)] = mod\n",
    "    res = model_dict\n",
    "    \n",
    "    if return_list:\n",
    "        ls_mods = list(model_dict.values())\n",
    "        res = (model_dict, ls_mods)\n",
    "    return res"
   ]
  },
  {
   "cell_type": "code",
   "execution_count": 76,
   "id": "15f38dcb",
   "metadata": {},
   "outputs": [],
   "source": [
    "def plot_models_performance(df, cols, mod_list, K_range):\n",
    "    \"\"\"\n",
    "    Plot silhoutte \n",
    "    \"\"\"\n",
    "    within_ss = [i.inertia_ for i in mod_list]\n",
    "    silhouette_list = [silhouette_score(df[cols], i.labels_) for i in mod_list]\n",
    "    \n",
    "    fig, axs = plt.subplots(nrows=1, ncols=2, figsize=(15,5))\n",
    "    axs[0].plot(K_range, within_ss, color='red')\n",
    "    axs[1].plot(K_range, silhouette_list, color='orange')\n",
    "    \n",
    "    for i in range(2): \n",
    "        axs[i].set_xlabel('number of clusters')\n",
    "    for idx, name in zip([0,1,2], ['inertia', 'silhouette score']): \n",
    "        axs[idx].set_ylabel(name)\n",
    "    \n",
    "    plt.show()"
   ]
  },
  {
   "cell_type": "code",
   "execution_count": 77,
   "id": "ad80116f",
   "metadata": {},
   "outputs": [],
   "source": [
    "K_range = range(3,10)\n",
    "cols_to_train = df_scale.columns\n",
    "mods_dict, mods_ls = get_models_dict(df_scale,cols=cols_to_train,\n",
    "                                     K_range=K_range,return_list=True)"
   ]
  },
  {
   "cell_type": "code",
   "execution_count": 78,
   "id": "68f1f3a6",
   "metadata": {},
   "outputs": [
    {
     "data": {
      "image/png": "[encoded data removed]",
      "text/plain": [
       "<Figure size 1080x360 with 2 Axes>"
      ]
     },
     "metadata": {
      "needs_background": "light"
     },
     "output_type": "display_data"
    }
   ],
   "source": [
    "plot_models_performance(df_scale,cols=cols_to_train,\n",
    "                        mod_list=mods_ls, K_range=K_range)"
   ]
  },
  {
   "cell_type": "code",
   "execution_count": 67,
   "id": "ae88cd1e",
   "metadata": {},
   "outputs": [],
   "source": [
    "K_final = 5\n",
    "final_model = mods_dict[str(K_final)]"
   ]
  },
  {
   "cell_type": "code",
   "execution_count": 114,
   "id": "2c7d850a",
   "metadata": {},
   "outputs": [],
   "source": [
    "### write the clustering result to a csv file\n",
    "df_new = pd.concat([df,\n",
    "                    pd.Series(final_model.labels_,name=\"clusterId\")],axis=1)"
   ]
  },
  {
   "cell_type": "code",
   "execution_count": 115,
   "id": "3e20c6d6",
   "metadata": {},
   "outputs": [],
   "source": [
    "mapper = {\"name\":\"title\",\n",
    "         \"duration_ms\":\"duration\",\n",
    "         \"uri\":\"track_uri\"}\n",
    "cols_to_drop = ['mode','type','id','track_href','analysis_url',\n",
    "                'time_signature','Unnamed: 0']\n",
    "df_new = df_new.drop(cols_to_drop,axis=1).rename(columns=mapper)"
   ]
  },
  {
   "cell_type": "code",
   "execution_count": 116,
   "id": "d3a84957",
   "metadata": {},
   "outputs": [],
   "source": [
    "df_new.to_csv(\"../../data/intermediate/clustered_songs.csv\",index=False)"
   ]
  },
  {
   "cell_type": "markdown",
   "id": "79f48930",
   "metadata": {},
   "source": [
    "## Clustering results"
   ]
  },
  {
   "cell_type": "code",
   "execution_count": 83,
   "id": "6ac55ba4",
   "metadata": {},
   "outputs": [],
   "source": [
    "def summary_kmeans(df, model):\n",
    "    \"\"\"\n",
    "    Returns a dataframe containing cluster summary information\n",
    "    \"\"\"\n",
    "    df_clusters = pd.DataFrame(model.cluster_centers_, columns=list(df.columns))\n",
    "    df_clusters['count'] = pd.Series(model.labels_).value_counts().sort_index()\n",
    "    df_clusters['percent'] = df_clusters['count']/df_clusters['count'].sum()\n",
    "    columns_ordered = ['count', 'percent'] + list(df.columns)\n",
    "    df_clusters = df_clusters[columns_ordered]\n",
    "    return df_clusters"
   ]
  },
  {
   "cell_type": "code",
   "execution_count": 84,
   "id": "a6ef470a",
   "metadata": {},
   "outputs": [
    {
     "data": {
      "text/html": [
       "<div>\n",
       "<style scoped>\n",
       "    .dataframe tbody tr th:only-of-type {\n",
       "        vertical-align: middle;\n",
       "    }\n",
       "\n",
       "    .dataframe tbody tr th {\n",
       "        vertical-align: top;\n",
       "    }\n",
       "\n",
       "    .dataframe thead th {\n",
       "        text-align: right;\n",
       "    }\n",
       "</style>\n",
       "<table border=\"1\" class=\"dataframe\">\n",
       "  <thead>\n",
       "    <tr style=\"text-align: right;\">\n",
       "      <th></th>\n",
       "      <th>count</th>\n",
       "      <th>percent</th>\n",
       "      <th>danceability</th>\n",
       "      <th>energy</th>\n",
       "      <th>loudness</th>\n",
       "      <th>speechiness</th>\n",
       "      <th>acousticness</th>\n",
       "      <th>instrumentalness</th>\n",
       "      <th>liveness</th>\n",
       "      <th>valence</th>\n",
       "      <th>tempo</th>\n",
       "    </tr>\n",
       "  </thead>\n",
       "  <tbody>\n",
       "    <tr>\n",
       "      <th>0</th>\n",
       "      <td>35</td>\n",
       "      <td>0.079909</td>\n",
       "      <td>0.410109</td>\n",
       "      <td>1.237692</td>\n",
       "      <td>0.917216</td>\n",
       "      <td>2.680120</td>\n",
       "      <td>-0.988510</td>\n",
       "      <td>-0.857344</td>\n",
       "      <td>0.810967</td>\n",
       "      <td>0.703986</td>\n",
       "      <td>0.763515</td>\n",
       "    </tr>\n",
       "    <tr>\n",
       "      <th>1</th>\n",
       "      <td>120</td>\n",
       "      <td>0.273973</td>\n",
       "      <td>-1.171732</td>\n",
       "      <td>-0.896628</td>\n",
       "      <td>-0.837243</td>\n",
       "      <td>-0.515586</td>\n",
       "      <td>0.783719</td>\n",
       "      <td>0.721438</td>\n",
       "      <td>-0.301767</td>\n",
       "      <td>-1.005992</td>\n",
       "      <td>-0.514985</td>\n",
       "    </tr>\n",
       "    <tr>\n",
       "      <th>2</th>\n",
       "      <td>131</td>\n",
       "      <td>0.299087</td>\n",
       "      <td>0.548181</td>\n",
       "      <td>0.675404</td>\n",
       "      <td>0.776819</td>\n",
       "      <td>-0.351635</td>\n",
       "      <td>-0.716967</td>\n",
       "      <td>-0.841925</td>\n",
       "      <td>-0.386036</td>\n",
       "      <td>0.591590</td>\n",
       "      <td>0.038882</td>\n",
       "    </tr>\n",
       "    <tr>\n",
       "      <th>3</th>\n",
       "      <td>91</td>\n",
       "      <td>0.207763</td>\n",
       "      <td>0.447652</td>\n",
       "      <td>-0.999343</td>\n",
       "      <td>-0.989514</td>\n",
       "      <td>0.227515</td>\n",
       "      <td>1.045278</td>\n",
       "      <td>1.185355</td>\n",
       "      <td>-0.421290</td>\n",
       "      <td>-0.301340</td>\n",
       "      <td>0.099108</td>\n",
       "    </tr>\n",
       "    <tr>\n",
       "      <th>4</th>\n",
       "      <td>61</td>\n",
       "      <td>0.139269</td>\n",
       "      <td>0.224689</td>\n",
       "      <td>1.094072</td>\n",
       "      <td>0.928674</td>\n",
       "      <td>-0.107765</td>\n",
       "      <td>-0.994198</td>\n",
       "      <td>-0.887552</td>\n",
       "      <td>1.585840</td>\n",
       "      <td>0.754151</td>\n",
       "      <td>0.343651</td>\n",
       "    </tr>\n",
       "  </tbody>\n",
       "</table>\n",
       "</div>"
      ],
      "text/plain": [
       "   count   percent  danceability    energy  loudness  speechiness  \\\n",
       "0     35  0.079909      0.410109  1.237692  0.917216     2.680120   \n",
       "1    120  0.273973     -1.171732 -0.896628 -0.837243    -0.515586   \n",
       "2    131  0.299087      0.548181  0.675404  0.776819    -0.351635   \n",
       "3     91  0.207763      0.447652 -0.999343 -0.989514     0.227515   \n",
       "4     61  0.139269      0.224689  1.094072  0.928674    -0.107765   \n",
       "\n",
       "   acousticness  instrumentalness  liveness   valence     tempo  \n",
       "0     -0.988510         -0.857344  0.810967  0.703986  0.763515  \n",
       "1      0.783719          0.721438 -0.301767 -1.005992 -0.514985  \n",
       "2     -0.716967         -0.841925 -0.386036  0.591590  0.038882  \n",
       "3      1.045278          1.185355 -0.421290 -0.301340  0.099108  \n",
       "4     -0.994198         -0.887552  1.585840  0.754151  0.343651  "
      ]
     },
     "execution_count": 84,
     "metadata": {},
     "output_type": "execute_result"
    }
   ],
   "source": [
    "summary_kmeans(df_scale,final_model)"
   ]
  },
  {
   "cell_type": "code",
   "execution_count": 89,
   "id": "6da6eac3",
   "metadata": {},
   "outputs": [],
   "source": [
    "def summary_plot(df, model):\n",
    "    df_summary = summary_kmeans(df, model)\n",
    "    x_max = df_summary.iloc[:,2:].values.max()\n",
    "    x_min = df_summary.iloc[:,2:].values.min()\n",
    "    \n",
    "    fig, axs = plt.subplots(nrows=1, ncols=model.n_clusters, figsize=(25,5))\n",
    "    for i in range(model.n_clusters):\n",
    "        if i > 0:\n",
    "            axs[i].get_yaxis().set_ticklabels([])\n",
    "        axs[i].scatter(x=df_summary.iloc[i, 2:].values, y=list(df.columns), color='royalblue')\n",
    "        axs[i].set_xlabel(f'cluster{str(i)}')\n",
    "        axs[i].set_xlim(x_min-0.5, x_max+0.5)\n",
    "    plt.show()"
   ]
  },
  {
   "cell_type": "code",
   "execution_count": 90,
   "id": "5503e6ed",
   "metadata": {},
   "outputs": [
    {
     "data": {
      "image/png": "[encoded data removed]",
      "text/plain": [
       "<Figure size 1800x360 with 5 Axes>"
      ]
     },
     "metadata": {
      "needs_background": "light"
     },
     "output_type": "display_data"
    }
   ],
   "source": [
    "summary_plot(df_scale,final_model)"
   ]
  },
  {
   "cell_type": "code",
   "execution_count": null,
   "id": "52e364e9",
   "metadata": {},
   "outputs": [],
   "source": []
  }
 ],
 "metadata": {
  "kernelspec": {
   "display_name": "Python [conda env:avc] *",
   "language": "python",
   "name": "conda-env-avc-py"
  },
  "language_info": {
   "codemirror_mode": {
    "name": "ipython",
    "version": 3
   },
   "file_extension": ".py",
   "mimetype": "text/x-python",
   "name": "python",
   "nbconvert_exporter": "python",
   "pygments_lexer": "ipython3",
   "version": "3.9.0"
  },
  "toc": {
   "base_numbering": 1,
   "nav_menu": {},
   "number_sections": true,
   "sideBar": true,
   "skip_h1_title": false,
   "title_cell": "Table of Contents",
   "title_sidebar": "Contents",
   "toc_cell": false,
   "toc_position": {},
   "toc_section_display": true,
   "toc_window_display": false
  }
 },
 "nbformat": 4,
 "nbformat_minor": 5
}
