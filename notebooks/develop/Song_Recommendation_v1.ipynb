{
 "cells": [
  {
   "cell_type": "code",
   "execution_count": 1,
   "id": "32f43b51",
   "metadata": {},
   "outputs": [],
   "source": [
    "import numpy as np\n",
    "import pandas as pd\n",
    "import matplotlib.pyplot as plt\n",
    "import sys\n",
    "import os"
   ]
  },
  {
   "cell_type": "code",
   "execution_count": 2,
   "id": "32428a7a",
   "metadata": {},
   "outputs": [],
   "source": [
    "import spotipy.util as util\n",
    "import spotipy\n",
    "from spotipy.oauth2 import SpotifyClientCredentials\n",
    "from sklearn.metrics.pairwise import cosine_similarity\n",
    "from sklearn.neighbors import NearestNeighbors"
   ]
  },
  {
   "cell_type": "markdown",
   "id": "8b7edf64",
   "metadata": {},
   "source": [
    "# Get songs from user input"
   ]
  },
  {
   "cell_type": "code",
   "execution_count": 3,
   "id": "54a1bbc6",
   "metadata": {},
   "outputs": [
    {
     "name": "stdout",
     "output_type": "stream",
     "text": [
      "Give me cidf9bbcbf7ac9e4f77b8f17ca9c5ed267e\n",
      "Give me secret511452ccbd6a447ebfdb9a4b3fcd19f0\n"
     ]
    }
   ],
   "source": [
    "cid = input(\"Give me cid\")\n",
    "secret = input(\"Give me secret\")"
   ]
  },
  {
   "cell_type": "code",
   "execution_count": 5,
   "id": "f3109149",
   "metadata": {},
   "outputs": [],
   "source": [
    "cid=\"f9bbcbf7ac9e4f77b8f17ca9c5ed267e\"\n",
    "secret = \"511452ccbd6a447ebfdb9a4b3fcd19f0\""
   ]
  },
  {
   "cell_type": "code",
   "execution_count": 6,
   "id": "db9baa9f",
   "metadata": {},
   "outputs": [],
   "source": [
    "client_credentials_manager = SpotifyClientCredentials(client_id=cid, client_secret=secret)\n",
    "sp = spotipy.Spotify(client_credentials_manager = client_credentials_manager)"
   ]
  },
  {
   "cell_type": "code",
   "execution_count": 7,
   "id": "c9c92336",
   "metadata": {},
   "outputs": [],
   "source": [
    "# search for a song\n",
    "song_name = \"Levitating\"\n",
    "artist_name = \"Dua Lipa\"\n",
    "song_to_search = f\"artist:{artist_name} track:{song_name}\"\n",
    "searchResults = sp.search(song_to_search, limit=1, offset=0, type=\"track\")"
   ]
  },
  {
   "cell_type": "code",
   "execution_count": 8,
   "id": "86c6a90a",
   "metadata": {},
   "outputs": [],
   "source": [
    "song_id = searchResults['tracks']['items'][0]['id']"
   ]
  },
  {
   "cell_type": "code",
   "execution_count": 9,
   "id": "50890e1d",
   "metadata": {},
   "outputs": [],
   "source": [
    "def get_song_features(track_ids):\n",
    "    res = []\n",
    "    for t in track_ids:\n",
    "        res.append(sp.audio_features(tracks=t)[0])\n",
    "    return res"
   ]
  },
  {
   "cell_type": "code",
   "execution_count": 10,
   "id": "26f673e9",
   "metadata": {},
   "outputs": [],
   "source": [
    "df = get_song_features([song_id])"
   ]
  },
  {
   "cell_type": "code",
   "execution_count": 11,
   "id": "0c8eb662",
   "metadata": {},
   "outputs": [
    {
     "data": {
      "text/plain": [
       "[{'danceability': 0.702,\n",
       "  'energy': 0.825,\n",
       "  'key': 6,\n",
       "  'loudness': -3.787,\n",
       "  'mode': 0,\n",
       "  'speechiness': 0.0601,\n",
       "  'acousticness': 0.00883,\n",
       "  'instrumentalness': 0,\n",
       "  'liveness': 0.0674,\n",
       "  'valence': 0.915,\n",
       "  'tempo': 102.977,\n",
       "  'type': 'audio_features',\n",
       "  'id': '5nujrmhLynf4yMoMtj8AQF',\n",
       "  'uri': 'spotify:track:5nujrmhLynf4yMoMtj8AQF',\n",
       "  'track_href': 'https://api.spotify.com/v1/tracks/5nujrmhLynf4yMoMtj8AQF',\n",
       "  'analysis_url': 'https://api.spotify.com/v1/audio-analysis/5nujrmhLynf4yMoMtj8AQF',\n",
       "  'duration_ms': 203064,\n",
       "  'time_signature': 4}]"
      ]
     },
     "execution_count": 11,
     "metadata": {},
     "output_type": "execute_result"
    }
   ],
   "source": [
    "df"
   ]
  },
  {
   "cell_type": "markdown",
   "id": "3b01318a",
   "metadata": {},
   "source": [
    "## Test finding 5 songs (scratched)"
   ]
  },
  {
   "cell_type": "code",
   "execution_count": 107,
   "id": "6c5ec1dd",
   "metadata": {},
   "outputs": [],
   "source": [
    "# def search_for_songs(song_names):\n",
    "#     track_ids = []\n",
    "#     for s in song_names:\n",
    "#         searchResults = sp.search(s, 1, 0, \"track\")\n",
    "#         song_id = searchResults['tracks']['items'][0]['id']\n",
    "#         track_ids.append(song_id)\n",
    "#     return get_song_features(track_ids)"
   ]
  },
  {
   "cell_type": "code",
   "execution_count": 108,
   "id": "bdac047a",
   "metadata": {},
   "outputs": [],
   "source": [
    "# songs = [\"Levitating\",\"Blinding Lights\",\"Ocean\",\"Physical\",\"Thank you next\"]\n",
    "# df_new = search_for_songs(songs)"
   ]
  },
  {
   "cell_type": "markdown",
   "id": "087ccbce",
   "metadata": {},
   "source": [
    "# Find songs from the anime music dataset"
   ]
  },
  {
   "cell_type": "code",
   "execution_count": 21,
   "id": "6e2d2e0f",
   "metadata": {},
   "outputs": [],
   "source": [
    "path_to_anime = \"../../data/external/anime_songs.csv\"\n",
    "anime_music = pd.read_csv(path_to_anime)"
   ]
  },
  {
   "cell_type": "code",
   "execution_count": 23,
   "id": "62366307",
   "metadata": {},
   "outputs": [
    {
     "data": {
      "text/plain": [
       "Index(['Unnamed: 0', 'danceability', 'energy', 'key', 'loudness', 'mode',\n",
       "       'speechiness', 'acousticness', 'instrumentalness', 'liveness',\n",
       "       'valence', 'tempo', 'type', 'id', 'uri', 'track_href', 'analysis_url',\n",
       "       'duration_ms', 'time_signature', 'name'],\n",
       "      dtype='object')"
      ]
     },
     "execution_count": 23,
     "metadata": {},
     "output_type": "execute_result"
    }
   ],
   "source": [
    "anime_music.columns"
   ]
  },
  {
   "cell_type": "code",
   "execution_count": 90,
   "id": "66036a38",
   "metadata": {},
   "outputs": [],
   "source": [
    "useful_cols = ['danceability', 'energy', 'loudness',\n",
    "       'speechiness', 'acousticness', 'instrumentalness',\n",
    "       'valence', 'tempo']\n",
    "df_anime = anime_music[useful_cols]"
   ]
  },
  {
   "cell_type": "code",
   "execution_count": 13,
   "id": "e0f65616",
   "metadata": {},
   "outputs": [],
   "source": [
    "df = pd.DataFrame.from_records(df,index=[0]*len(df))"
   ]
  },
  {
   "cell_type": "code",
   "execution_count": 118,
   "id": "dfa8cc17",
   "metadata": {},
   "outputs": [],
   "source": [
    "df_new_song = df[useful_cols]"
   ]
  },
  {
   "cell_type": "code",
   "execution_count": 119,
   "id": "1cb763e5",
   "metadata": {},
   "outputs": [],
   "source": [
    "neigh = NearestNeighbors(n_neighbors=3, algorithm = 'auto').fit(df_anime)"
   ]
  },
  {
   "cell_type": "code",
   "execution_count": 120,
   "id": "d3eb6ca4",
   "metadata": {},
   "outputs": [],
   "source": [
    "idxs = neigh.kneighbors(df_new_song, 5, return_distance=False)"
   ]
  },
  {
   "cell_type": "code",
   "execution_count": 121,
   "id": "655dd0d7",
   "metadata": {},
   "outputs": [
    {
     "data": {
      "text/html": [
       "<div>\n",
       "<style scoped>\n",
       "    .dataframe tbody tr th:only-of-type {\n",
       "        vertical-align: middle;\n",
       "    }\n",
       "\n",
       "    .dataframe tbody tr th {\n",
       "        vertical-align: top;\n",
       "    }\n",
       "\n",
       "    .dataframe thead th {\n",
       "        text-align: right;\n",
       "    }\n",
       "</style>\n",
       "<table border=\"1\" class=\"dataframe\">\n",
       "  <thead>\n",
       "    <tr style=\"text-align: right;\">\n",
       "      <th></th>\n",
       "      <th>Unnamed: 0</th>\n",
       "      <th>danceability</th>\n",
       "      <th>energy</th>\n",
       "      <th>key</th>\n",
       "      <th>loudness</th>\n",
       "      <th>mode</th>\n",
       "      <th>speechiness</th>\n",
       "      <th>acousticness</th>\n",
       "      <th>instrumentalness</th>\n",
       "      <th>liveness</th>\n",
       "      <th>valence</th>\n",
       "      <th>tempo</th>\n",
       "      <th>type</th>\n",
       "      <th>id</th>\n",
       "      <th>uri</th>\n",
       "      <th>track_href</th>\n",
       "      <th>analysis_url</th>\n",
       "      <th>duration_ms</th>\n",
       "      <th>time_signature</th>\n",
       "      <th>name</th>\n",
       "    </tr>\n",
       "  </thead>\n",
       "  <tbody>\n",
       "    <tr>\n",
       "      <th>154</th>\n",
       "      <td>0</td>\n",
       "      <td>0.511</td>\n",
       "      <td>0.806</td>\n",
       "      <td>7</td>\n",
       "      <td>-3.433</td>\n",
       "      <td>1</td>\n",
       "      <td>0.0690</td>\n",
       "      <td>0.433000</td>\n",
       "      <td>0.000000</td>\n",
       "      <td>0.0965</td>\n",
       "      <td>0.552</td>\n",
       "      <td>102.070</td>\n",
       "      <td>audio_features</td>\n",
       "      <td>79AU26qJdGVLPK31RsWy31</td>\n",
       "      <td>spotify:track:79AU26qJdGVLPK31RsWy31</td>\n",
       "      <td>https://api.spotify.com/v1/tracks/79AU26qJdGVL...</td>\n",
       "      <td>https://api.spotify.com/v1/audio-analysis/79AU...</td>\n",
       "      <td>91240</td>\n",
       "      <td>4</td>\n",
       "      <td>salvation - Anime ver.</td>\n",
       "    </tr>\n",
       "    <tr>\n",
       "      <th>162</th>\n",
       "      <td>0</td>\n",
       "      <td>0.517</td>\n",
       "      <td>0.882</td>\n",
       "      <td>2</td>\n",
       "      <td>-5.507</td>\n",
       "      <td>1</td>\n",
       "      <td>0.0770</td>\n",
       "      <td>0.000079</td>\n",
       "      <td>0.000000</td>\n",
       "      <td>0.3360</td>\n",
       "      <td>0.342</td>\n",
       "      <td>103.003</td>\n",
       "      <td>audio_features</td>\n",
       "      <td>2FTt8Qkc04fcRZzwDEsNrh</td>\n",
       "      <td>spotify:track:2FTt8Qkc04fcRZzwDEsNrh</td>\n",
       "      <td>https://api.spotify.com/v1/tracks/2FTt8Qkc04fc...</td>\n",
       "      <td>https://api.spotify.com/v1/audio-analysis/2FTt...</td>\n",
       "      <td>250118</td>\n",
       "      <td>4</td>\n",
       "      <td>Get up! Shout!</td>\n",
       "    </tr>\n",
       "    <tr>\n",
       "      <th>77</th>\n",
       "      <td>0</td>\n",
       "      <td>0.592</td>\n",
       "      <td>0.769</td>\n",
       "      <td>2</td>\n",
       "      <td>-5.268</td>\n",
       "      <td>1</td>\n",
       "      <td>0.0311</td>\n",
       "      <td>0.319000</td>\n",
       "      <td>0.000005</td>\n",
       "      <td>0.1370</td>\n",
       "      <td>0.385</td>\n",
       "      <td>102.033</td>\n",
       "      <td>audio_features</td>\n",
       "      <td>4uVvqoI2sWncxvqgwRZ1H9</td>\n",
       "      <td>spotify:track:4uVvqoI2sWncxvqgwRZ1H9</td>\n",
       "      <td>https://api.spotify.com/v1/tracks/4uVvqoI2sWnc...</td>\n",
       "      <td>https://api.spotify.com/v1/audio-analysis/4uVv...</td>\n",
       "      <td>322147</td>\n",
       "      <td>4</td>\n",
       "      <td>ヒカレイノチ</td>\n",
       "    </tr>\n",
       "    <tr>\n",
       "      <th>25</th>\n",
       "      <td>0</td>\n",
       "      <td>0.669</td>\n",
       "      <td>0.751</td>\n",
       "      <td>5</td>\n",
       "      <td>-5.447</td>\n",
       "      <td>0</td>\n",
       "      <td>0.0299</td>\n",
       "      <td>0.004830</td>\n",
       "      <td>0.023700</td>\n",
       "      <td>0.3260</td>\n",
       "      <td>0.833</td>\n",
       "      <td>103.976</td>\n",
       "      <td>audio_features</td>\n",
       "      <td>1YvLvyEHEUv6xuablK3kpj</td>\n",
       "      <td>spotify:track:1YvLvyEHEUv6xuablK3kpj</td>\n",
       "      <td>https://api.spotify.com/v1/tracks/1YvLvyEHEUv6...</td>\n",
       "      <td>https://api.spotify.com/v1/audio-analysis/1YvL...</td>\n",
       "      <td>223846</td>\n",
       "      <td>4</td>\n",
       "      <td>空と虚</td>\n",
       "    </tr>\n",
       "    <tr>\n",
       "      <th>19</th>\n",
       "      <td>0</td>\n",
       "      <td>0.599</td>\n",
       "      <td>0.932</td>\n",
       "      <td>11</td>\n",
       "      <td>-5.622</td>\n",
       "      <td>1</td>\n",
       "      <td>0.0407</td>\n",
       "      <td>0.002150</td>\n",
       "      <td>0.000000</td>\n",
       "      <td>0.1460</td>\n",
       "      <td>0.539</td>\n",
       "      <td>102.065</td>\n",
       "      <td>audio_features</td>\n",
       "      <td>04LCCxG3pbOYeENiyUc7Xb</td>\n",
       "      <td>spotify:track:04LCCxG3pbOYeENiyUc7Xb</td>\n",
       "      <td>https://api.spotify.com/v1/tracks/04LCCxG3pbOY...</td>\n",
       "      <td>https://api.spotify.com/v1/audio-analysis/04LC...</td>\n",
       "      <td>208300</td>\n",
       "      <td>4</td>\n",
       "      <td>Black Rover</td>\n",
       "    </tr>\n",
       "  </tbody>\n",
       "</table>\n",
       "</div>"
      ],
      "text/plain": [
       "     Unnamed: 0  danceability  energy  key  loudness  mode  speechiness  \\\n",
       "154           0         0.511   0.806    7    -3.433     1       0.0690   \n",
       "162           0         0.517   0.882    2    -5.507     1       0.0770   \n",
       "77            0         0.592   0.769    2    -5.268     1       0.0311   \n",
       "25            0         0.669   0.751    5    -5.447     0       0.0299   \n",
       "19            0         0.599   0.932   11    -5.622     1       0.0407   \n",
       "\n",
       "     acousticness  instrumentalness  liveness  valence    tempo  \\\n",
       "154      0.433000          0.000000    0.0965    0.552  102.070   \n",
       "162      0.000079          0.000000    0.3360    0.342  103.003   \n",
       "77       0.319000          0.000005    0.1370    0.385  102.033   \n",
       "25       0.004830          0.023700    0.3260    0.833  103.976   \n",
       "19       0.002150          0.000000    0.1460    0.539  102.065   \n",
       "\n",
       "               type                      id  \\\n",
       "154  audio_features  79AU26qJdGVLPK31RsWy31   \n",
       "162  audio_features  2FTt8Qkc04fcRZzwDEsNrh   \n",
       "77   audio_features  4uVvqoI2sWncxvqgwRZ1H9   \n",
       "25   audio_features  1YvLvyEHEUv6xuablK3kpj   \n",
       "19   audio_features  04LCCxG3pbOYeENiyUc7Xb   \n",
       "\n",
       "                                      uri  \\\n",
       "154  spotify:track:79AU26qJdGVLPK31RsWy31   \n",
       "162  spotify:track:2FTt8Qkc04fcRZzwDEsNrh   \n",
       "77   spotify:track:4uVvqoI2sWncxvqgwRZ1H9   \n",
       "25   spotify:track:1YvLvyEHEUv6xuablK3kpj   \n",
       "19   spotify:track:04LCCxG3pbOYeENiyUc7Xb   \n",
       "\n",
       "                                            track_href  \\\n",
       "154  https://api.spotify.com/v1/tracks/79AU26qJdGVL...   \n",
       "162  https://api.spotify.com/v1/tracks/2FTt8Qkc04fc...   \n",
       "77   https://api.spotify.com/v1/tracks/4uVvqoI2sWnc...   \n",
       "25   https://api.spotify.com/v1/tracks/1YvLvyEHEUv6...   \n",
       "19   https://api.spotify.com/v1/tracks/04LCCxG3pbOY...   \n",
       "\n",
       "                                          analysis_url  duration_ms  \\\n",
       "154  https://api.spotify.com/v1/audio-analysis/79AU...        91240   \n",
       "162  https://api.spotify.com/v1/audio-analysis/2FTt...       250118   \n",
       "77   https://api.spotify.com/v1/audio-analysis/4uVv...       322147   \n",
       "25   https://api.spotify.com/v1/audio-analysis/1YvL...       223846   \n",
       "19   https://api.spotify.com/v1/audio-analysis/04LC...       208300   \n",
       "\n",
       "     time_signature                    name  \n",
       "154               4  salvation - Anime ver.  \n",
       "162               4          Get up! Shout!  \n",
       "77                4                  ヒカレイノチ  \n",
       "25                4                     空と虚  \n",
       "19                4             Black Rover  "
      ]
     },
     "execution_count": 121,
     "metadata": {},
     "output_type": "execute_result"
    }
   ],
   "source": [
    "anime_music.iloc[list(idxs[0]),:]"
   ]
  },
  {
   "cell_type": "code",
   "execution_count": 113,
   "id": "932506c7",
   "metadata": {},
   "outputs": [
    {
     "data": {
      "text/html": [
       "<div>\n",
       "<style scoped>\n",
       "    .dataframe tbody tr th:only-of-type {\n",
       "        vertical-align: middle;\n",
       "    }\n",
       "\n",
       "    .dataframe tbody tr th {\n",
       "        vertical-align: top;\n",
       "    }\n",
       "\n",
       "    .dataframe thead th {\n",
       "        text-align: right;\n",
       "    }\n",
       "</style>\n",
       "<table border=\"1\" class=\"dataframe\">\n",
       "  <thead>\n",
       "    <tr style=\"text-align: right;\">\n",
       "      <th></th>\n",
       "      <th>danceability</th>\n",
       "      <th>energy</th>\n",
       "      <th>loudness</th>\n",
       "      <th>speechiness</th>\n",
       "      <th>acousticness</th>\n",
       "      <th>instrumentalness</th>\n",
       "      <th>valence</th>\n",
       "      <th>tempo</th>\n",
       "    </tr>\n",
       "  </thead>\n",
       "  <tbody>\n",
       "    <tr>\n",
       "      <th>0</th>\n",
       "      <td>0.702</td>\n",
       "      <td>0.825</td>\n",
       "      <td>-3.787</td>\n",
       "      <td>0.0601</td>\n",
       "      <td>0.008830</td>\n",
       "      <td>0.000000</td>\n",
       "      <td>0.915</td>\n",
       "      <td>102.977</td>\n",
       "    </tr>\n",
       "    <tr>\n",
       "      <th>0</th>\n",
       "      <td>0.514</td>\n",
       "      <td>0.730</td>\n",
       "      <td>-5.934</td>\n",
       "      <td>0.0598</td>\n",
       "      <td>0.001460</td>\n",
       "      <td>0.000095</td>\n",
       "      <td>0.334</td>\n",
       "      <td>171.005</td>\n",
       "    </tr>\n",
       "    <tr>\n",
       "      <th>0</th>\n",
       "      <td>0.486</td>\n",
       "      <td>0.904</td>\n",
       "      <td>-3.751</td>\n",
       "      <td>0.0638</td>\n",
       "      <td>0.000034</td>\n",
       "      <td>0.000028</td>\n",
       "      <td>0.786</td>\n",
       "      <td>173.734</td>\n",
       "    </tr>\n",
       "    <tr>\n",
       "      <th>0</th>\n",
       "      <td>0.660</td>\n",
       "      <td>0.875</td>\n",
       "      <td>-3.333</td>\n",
       "      <td>0.0472</td>\n",
       "      <td>0.028100</td>\n",
       "      <td>0.001580</td>\n",
       "      <td>0.688</td>\n",
       "      <td>146.946</td>\n",
       "    </tr>\n",
       "    <tr>\n",
       "      <th>0</th>\n",
       "      <td>0.717</td>\n",
       "      <td>0.653</td>\n",
       "      <td>-5.634</td>\n",
       "      <td>0.0658</td>\n",
       "      <td>0.229000</td>\n",
       "      <td>0.000000</td>\n",
       "      <td>0.412</td>\n",
       "      <td>106.966</td>\n",
       "    </tr>\n",
       "  </tbody>\n",
       "</table>\n",
       "</div>"
      ],
      "text/plain": [
       "   danceability  energy  loudness  speechiness  acousticness  \\\n",
       "0         0.702   0.825    -3.787       0.0601      0.008830   \n",
       "0         0.514   0.730    -5.934       0.0598      0.001460   \n",
       "0         0.486   0.904    -3.751       0.0638      0.000034   \n",
       "0         0.660   0.875    -3.333       0.0472      0.028100   \n",
       "0         0.717   0.653    -5.634       0.0658      0.229000   \n",
       "\n",
       "   instrumentalness  valence    tempo  \n",
       "0          0.000000    0.915  102.977  \n",
       "0          0.000095    0.334  171.005  \n",
       "0          0.000028    0.786  173.734  \n",
       "0          0.001580    0.688  146.946  \n",
       "0          0.000000    0.412  106.966  "
      ]
     },
     "execution_count": 113,
     "metadata": {},
     "output_type": "execute_result"
    }
   ],
   "source": [
    "df_new_song"
   ]
  },
  {
   "cell_type": "markdown",
   "id": "11d6ba12",
   "metadata": {},
   "source": [
    "# Calculate distances between two dataframes"
   ]
  },
  {
   "cell_type": "code",
   "execution_count": 18,
   "id": "efb1d18f",
   "metadata": {},
   "outputs": [],
   "source": [
    "centroids = pd.read_csv(\"../../data/intermediate/centroids.csv\")\n",
    "df_song = df\n",
    "features = ['danceability', 'energy', 'loudness',\n",
    "       'speechiness', 'acousticness', 'instrumentalness',\n",
    "        'liveness','valence', 'tempo']"
   ]
  },
  {
   "cell_type": "code",
   "execution_count": 37,
   "id": "420a8b11",
   "metadata": {},
   "outputs": [
    {
     "data": {
      "text/plain": [
       "array([[ 0.20669405, -0.21392465,  0.01350239,  0.05708245,  0.12277632]])"
      ]
     },
     "execution_count": 37,
     "metadata": {},
     "output_type": "execute_result"
    }
   ],
   "source": [
    "from sklearn.metrics.pairwise import cosine_similarity\n",
    "dist = cosine_similarity(df_song[features],centroids[features])\n",
    "dist"
   ]
  },
  {
   "cell_type": "code",
   "execution_count": 38,
   "id": "1c9b5a5b",
   "metadata": {},
   "outputs": [
    {
     "data": {
      "text/plain": [
       "1"
      ]
     },
     "execution_count": 38,
     "metadata": {},
     "output_type": "execute_result"
    }
   ],
   "source": [
    "int(centroids.loc[np.argmin(dist,axis=-1),\"clusterId\"])"
   ]
  },
  {
   "cell_type": "code",
   "execution_count": 29,
   "id": "46d35ba7",
   "metadata": {},
   "outputs": [],
   "source": [
    "df_anime = pd.read_csv(\"../../data/intermediate/clustered_songs.csv\")"
   ]
  },
  {
   "cell_type": "code",
   "execution_count": 54,
   "id": "5bd77879",
   "metadata": {},
   "outputs": [
    {
     "data": {
      "text/html": [
       "<div>\n",
       "<style scoped>\n",
       "    .dataframe tbody tr th:only-of-type {\n",
       "        vertical-align: middle;\n",
       "    }\n",
       "\n",
       "    .dataframe tbody tr th {\n",
       "        vertical-align: top;\n",
       "    }\n",
       "\n",
       "    .dataframe thead th {\n",
       "        text-align: right;\n",
       "    }\n",
       "</style>\n",
       "<table border=\"1\" class=\"dataframe\">\n",
       "  <thead>\n",
       "    <tr style=\"text-align: right;\">\n",
       "      <th></th>\n",
       "      <th>danceability</th>\n",
       "      <th>energy</th>\n",
       "      <th>loudness</th>\n",
       "      <th>speechiness</th>\n",
       "      <th>acousticness</th>\n",
       "      <th>instrumentalness</th>\n",
       "      <th>liveness</th>\n",
       "      <th>valence</th>\n",
       "      <th>tempo</th>\n",
       "    </tr>\n",
       "  </thead>\n",
       "  <tbody>\n",
       "    <tr>\n",
       "      <th>8</th>\n",
       "      <td>0.325</td>\n",
       "      <td>0.05830</td>\n",
       "      <td>-25.045</td>\n",
       "      <td>0.0440</td>\n",
       "      <td>0.986</td>\n",
       "      <td>0.9010</td>\n",
       "      <td>0.0968</td>\n",
       "      <td>0.0389</td>\n",
       "      <td>65.514</td>\n",
       "    </tr>\n",
       "    <tr>\n",
       "      <th>15</th>\n",
       "      <td>0.441</td>\n",
       "      <td>0.00742</td>\n",
       "      <td>-31.918</td>\n",
       "      <td>0.0393</td>\n",
       "      <td>0.993</td>\n",
       "      <td>0.9520</td>\n",
       "      <td>0.1030</td>\n",
       "      <td>0.1420</td>\n",
       "      <td>68.066</td>\n",
       "    </tr>\n",
       "    <tr>\n",
       "      <th>104</th>\n",
       "      <td>0.342</td>\n",
       "      <td>0.02870</td>\n",
       "      <td>-31.008</td>\n",
       "      <td>0.0411</td>\n",
       "      <td>0.986</td>\n",
       "      <td>0.7750</td>\n",
       "      <td>0.1790</td>\n",
       "      <td>0.1210</td>\n",
       "      <td>64.366</td>\n",
       "    </tr>\n",
       "    <tr>\n",
       "      <th>16</th>\n",
       "      <td>0.292</td>\n",
       "      <td>0.05660</td>\n",
       "      <td>-21.355</td>\n",
       "      <td>0.0355</td>\n",
       "      <td>0.994</td>\n",
       "      <td>0.8710</td>\n",
       "      <td>0.1010</td>\n",
       "      <td>0.0386</td>\n",
       "      <td>35.660</td>\n",
       "    </tr>\n",
       "    <tr>\n",
       "      <th>107</th>\n",
       "      <td>0.265</td>\n",
       "      <td>0.02820</td>\n",
       "      <td>-27.958</td>\n",
       "      <td>0.0476</td>\n",
       "      <td>0.985</td>\n",
       "      <td>0.8740</td>\n",
       "      <td>0.0941</td>\n",
       "      <td>0.1280</td>\n",
       "      <td>65.088</td>\n",
       "    </tr>\n",
       "    <tr>\n",
       "      <th>96</th>\n",
       "      <td>0.240</td>\n",
       "      <td>0.00772</td>\n",
       "      <td>-28.248</td>\n",
       "      <td>0.0452</td>\n",
       "      <td>0.974</td>\n",
       "      <td>0.9300</td>\n",
       "      <td>0.0756</td>\n",
       "      <td>0.0364</td>\n",
       "      <td>75.027</td>\n",
       "    </tr>\n",
       "    <tr>\n",
       "      <th>79</th>\n",
       "      <td>0.306</td>\n",
       "      <td>0.00653</td>\n",
       "      <td>-29.199</td>\n",
       "      <td>0.0394</td>\n",
       "      <td>0.958</td>\n",
       "      <td>0.9320</td>\n",
       "      <td>0.1280</td>\n",
       "      <td>0.2100</td>\n",
       "      <td>77.002</td>\n",
       "    </tr>\n",
       "    <tr>\n",
       "      <th>98</th>\n",
       "      <td>0.383</td>\n",
       "      <td>0.00467</td>\n",
       "      <td>-29.878</td>\n",
       "      <td>0.0528</td>\n",
       "      <td>0.991</td>\n",
       "      <td>0.8650</td>\n",
       "      <td>0.1090</td>\n",
       "      <td>0.2250</td>\n",
       "      <td>69.003</td>\n",
       "    </tr>\n",
       "    <tr>\n",
       "      <th>85</th>\n",
       "      <td>0.194</td>\n",
       "      <td>0.01740</td>\n",
       "      <td>-26.644</td>\n",
       "      <td>0.0378</td>\n",
       "      <td>0.983</td>\n",
       "      <td>0.0391</td>\n",
       "      <td>0.0845</td>\n",
       "      <td>0.0350</td>\n",
       "      <td>70.983</td>\n",
       "    </tr>\n",
       "    <tr>\n",
       "      <th>109</th>\n",
       "      <td>0.309</td>\n",
       "      <td>0.04230</td>\n",
       "      <td>-24.400</td>\n",
       "      <td>0.0565</td>\n",
       "      <td>0.993</td>\n",
       "      <td>0.9230</td>\n",
       "      <td>0.0893</td>\n",
       "      <td>0.2070</td>\n",
       "      <td>67.534</td>\n",
       "    </tr>\n",
       "  </tbody>\n",
       "</table>\n",
       "</div>"
      ],
      "text/plain": [
       "     danceability   energy  loudness  speechiness  acousticness  \\\n",
       "8           0.325  0.05830   -25.045       0.0440         0.986   \n",
       "15          0.441  0.00742   -31.918       0.0393         0.993   \n",
       "104         0.342  0.02870   -31.008       0.0411         0.986   \n",
       "16          0.292  0.05660   -21.355       0.0355         0.994   \n",
       "107         0.265  0.02820   -27.958       0.0476         0.985   \n",
       "96          0.240  0.00772   -28.248       0.0452         0.974   \n",
       "79          0.306  0.00653   -29.199       0.0394         0.958   \n",
       "98          0.383  0.00467   -29.878       0.0528         0.991   \n",
       "85          0.194  0.01740   -26.644       0.0378         0.983   \n",
       "109         0.309  0.04230   -24.400       0.0565         0.993   \n",
       "\n",
       "     instrumentalness  liveness  valence   tempo  \n",
       "8              0.9010    0.0968   0.0389  65.514  \n",
       "15             0.9520    0.1030   0.1420  68.066  \n",
       "104            0.7750    0.1790   0.1210  64.366  \n",
       "16             0.8710    0.1010   0.0386  35.660  \n",
       "107            0.8740    0.0941   0.1280  65.088  \n",
       "96             0.9300    0.0756   0.0364  75.027  \n",
       "79             0.9320    0.1280   0.2100  77.002  \n",
       "98             0.8650    0.1090   0.2250  69.003  \n",
       "85             0.0391    0.0845   0.0350  70.983  \n",
       "109            0.9230    0.0893   0.2070  67.534  "
      ]
     },
     "execution_count": 54,
     "metadata": {},
     "output_type": "execute_result"
    }
   ],
   "source": [
    "df_cluster = df_anime.loc[df_anime.clusterId==1,features]\n",
    "dist = cosine_similarity(df_song[features],df_cluster)\n",
    "inds = np.argpartition(dist,10,axis=-1)\n",
    "\n",
    "df_cluster.reset_index(drop=True).loc[inds[0][:10]]\n"
   ]
  },
  {
   "cell_type": "code",
   "execution_count": null,
   "id": "d155b7d9",
   "metadata": {},
   "outputs": [],
   "source": []
  }
 ],
 "metadata": {
  "interpreter": {
   "hash": "452980a2e5f93f56deb9ead5ad372a9e8c4ef1d13a4cacc41256a089b0eb9eb8"
  },
  "kernelspec": {
   "display_name": "Python 3.9.0 ('avc')",
   "language": "python",
   "name": "python3"
  },
  "language_info": {
   "codemirror_mode": {
    "name": "ipython",
    "version": 3
   },
   "file_extension": ".py",
   "mimetype": "text/x-python",
   "name": "python",
   "nbconvert_exporter": "python",
   "pygments_lexer": "ipython3",
   "version": "3.9.0"
  },
  "toc": {
   "base_numbering": 1,
   "nav_menu": {},
   "number_sections": true,
   "sideBar": true,
   "skip_h1_title": false,
   "title_cell": "Table of Contents",
   "title_sidebar": "Contents",
   "toc_cell": false,
   "toc_position": {},
   "toc_section_display": true,
   "toc_window_display": false
  }
 },
 "nbformat": 4,
 "nbformat_minor": 5
}
